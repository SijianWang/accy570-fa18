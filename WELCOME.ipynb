{
 "cells": [
  {
   "cell_type": "markdown",
   "metadata": {},
   "source": [
    "# Welcome to ACCY 570: Data Analytics Foundations\n",
    "\n",
    "-----\n",
    "\n",
    "***Professor:*** Dr. Robert Brunner\n",
    "\n",
    "***Server Administrator:*** Jamshed Kaikaus\n",
    "\n",
    "***Teaching Assistants:*** \n",
    "\n",
    "- William Biscarri\n",
    "- Jamshed Kaikaus\n",
    "- Linden Lu (Head TA)\n",
    "\n",
    "-----\n",
    "\n",
    "For contact information see the course [moodle site](https://learn.illinois.edu/course/view.php?id=30540).\n",
    "\n",
    "-----\n",
    "\n",
    "This class is a synchronous, face-to-face course with a significant online component. There is a weekly lecture session run by Professor Brunner and discussion sections run by a teaching assistant. The goal for this course is to build a practical foundation for data analytics (or data science) by teaching students basic tools and techniques that can scale to large computational systems and massive data sets. As a result, this course is the first course in the Data Analytics track.\n",
    "\n",
    "Students will first learn how to use the Python programming language, with a focus on specific aspects of the language and associated Python modules that are relevant for Data Science. Python will be introduced and used primarily via the IPython (or Jupyter) Notebooks, and will cover the NumPy, SciPy, Matplotlib, Pandas, and Seaborn, Python modules. These capabilities will be demonstrated through simple data science tasks such as obtaining data, cleaning data, visualizing data, and basic data analysis. In addition, students will learn how to work at a Unix command prompt.\n",
    "\n",
    "Students must have access to a computer with a modern web browser to work with the course websites and course [JupyterHub server](http://datascience.business.illinois.edu).\n",
    "\n",
    "Note: this class is restricted to MAS or select MSA students pursuing the data analytics concentration in Accountancy program.\n",
    "\n",
    "Please refer to the [course syllabus](orientation/syllabus.ipynb) for more information about course content and grading policies.\n",
    "\n",
    "**If you have any questions, or if something is not working properly, *PLEASE* first look through the _Moodle Q&A Forum_ before emailing TA or course instructor.**\n",
    "\n",
    "-----"
   ]
  }
 ],
 "metadata": {
  "kernelspec": {
   "display_name": "Python 3",
   "language": "python",
   "name": "python3"
  },
  "language_info": {
   "codemirror_mode": {
    "name": "ipython",
    "version": 3
   },
   "file_extension": ".py",
   "mimetype": "text/x-python",
   "name": "python",
   "nbconvert_exporter": "python",
   "pygments_lexer": "ipython3",
   "version": "3.6.5"
  }
 },
 "nbformat": 4,
 "nbformat_minor": 2
}
