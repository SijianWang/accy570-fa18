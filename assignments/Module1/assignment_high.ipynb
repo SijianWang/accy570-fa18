{
 "cells": [
  {
   "cell_type": "markdown",
   "metadata": {
    "deletable": false,
    "editable": false,
    "nbgrader": {
     "checksum": "6d0bb709a6164595b536e1d9ae8f703f",
     "grade": false,
     "grade_id": "cell-fb984e839f54abb5",
     "locked": true,
     "schema_version": 1,
     "solution": false
    }
   },
   "source": [
    "# Module 1 Assignment\n",
    "\n",
    "A few things you should keep in mind when working on assignments:\n",
    "\n",
    "1. Make sure you fill in any place that says # YOUR CODE HERE. Do not write your answer anywhere else other than where it says # YOUR CODE HERE. Anything you write elsewhere will be removed or overwritten by the autograder.\n",
    "\n",
    "2. Before you submit your assignment, make sure everything runs as expected. Go to the menubar, select Kernel, and restart the kernel and run all cells (Restart & Run all).\n",
    "\n",
    "3. Do not change the title (i.e. file name) of this notebook.\n",
    "\n",
    "4. Make sure that you save your work (in the menubar, select File → Save and CheckPoint).\n",
    "\n",
    "5. All work must be your own, if you do use any code from another source (such as a course notebook or a website) you need to properly cite the source."
   ]
  },
  {
   "cell_type": "code",
   "execution_count": null,
   "metadata": {},
   "outputs": [],
   "source": [
    "from nose.tools import assert_equal, assert_almost_equals, assert_not_equal\n",
    "import sys\n",
    "import math\n",
    "import warnings\n",
    "warnings.filterwarnings(\"ignore\", category=DeprecationWarning) "
   ]
  },
  {
   "cell_type": "markdown",
   "metadata": {
    "deletable": false,
    "editable": false,
    "nbgrader": {
     "checksum": "0249749e99ad864747dd436f174cfe54",
     "grade": false,
     "grade_id": "cell-2b55eb23d31e6870",
     "locked": true,
     "schema_version": 1,
     "solution": false
    }
   },
   "source": [
    "# Problem 1: Creating a Python string\n",
    "\n",
    "- Type \"x = 'This is my first string' \" without the outer quotation marks in the below cell and run it."
   ]
  },
  {
   "cell_type": "code",
   "execution_count": null,
   "metadata": {
    "deletable": false,
    "nbgrader": {
     "checksum": "7ca55efe8b50f42534b71502e43a8b07",
     "grade": false,
     "grade_id": "p1-answer",
     "locked": false,
     "schema_version": 1,
     "solution": true
    }
   },
   "outputs": [],
   "source": [
    "\n",
    "### YOUR CODE HERE"
   ]
  },
  {
   "cell_type": "code",
   "execution_count": null,
   "metadata": {
    "deletable": false,
    "editable": false,
    "nbgrader": {
     "checksum": "5ba9b99622726bdb2e51cb1e6302f2ac",
     "grade": true,
     "grade_id": "p1-test",
     "locked": true,
     "points": 1,
     "schema_version": 1,
     "solution": false
    }
   },
   "outputs": [],
   "source": [
    "try:\n",
    "    if ((x=='This is my first string') & (type(x)==str)):\n",
    "        print('Great! You created a string!')\n",
    "    else:\n",
    "        print('x is not the right value check your code and run again')\n",
    "except NameError:\n",
    "    print('x is not defined! You need to run the code cell!')\n",
    "    \n",
    "assert_equal(type(x),str, msg='x is not a string!')"
   ]
  },
  {
   "cell_type": "markdown",
   "metadata": {
    "deletable": false,
    "editable": false,
    "nbgrader": {
     "checksum": "459e5e7ccc494cbf74e2d3294803a5c9",
     "grade": false,
     "grade_id": "cell-2320466f8ac62e59",
     "locked": true,
     "schema_version": 1,
     "solution": false
    }
   },
   "source": [
    "# Problem 2: Import numpy\n",
    "\n",
    "- Type \"import numpy\" in the below cell to import the numpy module.\n"
   ]
  },
  {
   "cell_type": "code",
   "execution_count": null,
   "metadata": {
    "deletable": false,
    "nbgrader": {
     "checksum": "b458738db8444ef7a4bc583de13b666c",
     "grade": false,
     "grade_id": "p2-answer",
     "locked": false,
     "schema_version": 1,
     "solution": true
    }
   },
   "outputs": [],
   "source": [
    "### YOUR CODE HERE"
   ]
  },
  {
   "cell_type": "code",
   "execution_count": null,
   "metadata": {
    "deletable": false,
    "editable": false,
    "nbgrader": {
     "checksum": "ddd4612dad3123b130a6c1be4fe753c4",
     "grade": true,
     "grade_id": "p2-test",
     "locked": true,
     "points": 1,
     "schema_version": 1,
     "solution": false
    }
   },
   "outputs": [],
   "source": [
    "if 'numpy' in dir():\n",
    "    print('numpy module has been successfully imported')\n",
    "else:\n",
    "    print('numpy module has not been imported')\n",
    "    \n",
    "assert_equal(numpy.array([1])[0],1,msg='Make sure you ran the code cell to import numpy!')"
   ]
  },
  {
   "cell_type": "markdown",
   "metadata": {
    "deletable": false,
    "editable": false,
    "nbgrader": {
     "checksum": "903dd5137d8be0f7fa59bedf916e384f",
     "grade": false,
     "grade_id": "cell-2a71d53b43b10ca2",
     "locked": true,
     "schema_version": 1,
     "solution": false
    }
   },
   "source": [
    "# Problem 3: Add emphasis to Markdown text\n",
    "\n",
    "- The below cell is in code format, but we can use the IPython.display module to write Markdown formatted code as Python strings, and then display it as markdown.\n",
    "\n",
    "\n",
    "- In the below cell, in between the two ` '''` statements, write markdown code that does the following\n",
    "\n",
    "    - Writes the word \"bold\" **in bold**\n",
    "    \n",
    "    - Writes the word \"italics\" *in italics*\n",
    "    \n",
    "    - Write the phrase \"scrach and bold\", first in italices, and then in bold, like so ~~**scratch and bold**~~.\n",
    "    \n",
    "    \n",
    "\n",
    "- NOTE: When writing your markdown code, dont put any spaces between the Markdown characters that initialize the bold/italicize/scratch environments, and your text within those environments."
   ]
  },
  {
   "cell_type": "code",
   "execution_count": null,
   "metadata": {
    "deletable": false,
    "nbgrader": {
     "checksum": "b1ea34d7df72ac56ce578066bc9c9d5c",
     "grade": false,
     "grade_id": "p3-answer",
     "locked": false,
     "schema_version": 1,
     "solution": true
    }
   },
   "outputs": [],
   "source": [
    "md='''\n",
    "\n",
    "### YOUR CODE HERE\n",
    "\n",
    "'''"
   ]
  },
  {
   "cell_type": "code",
   "execution_count": null,
   "metadata": {
    "deletable": false,
    "editable": false,
    "nbgrader": {
     "checksum": "f32ff01652f269967b3d0a0ac52fc591",
     "grade": false,
     "grade_id": "cell-f7a9971c830f23f8",
     "locked": true,
     "schema_version": 1,
     "solution": false
    }
   },
   "outputs": [],
   "source": [
    "#Let's view the markdown\n",
    "from IPython.display import Markdown\n",
    "display(Markdown(md))"
   ]
  },
  {
   "cell_type": "code",
   "execution_count": null,
   "metadata": {
    "deletable": false,
    "editable": false,
    "nbgrader": {
     "checksum": "a73dd8a0a9dfa4ded681e48b9cfb3baa",
     "grade": true,
     "grade_id": "p3-test",
     "locked": true,
     "points": 1,
     "schema_version": 1,
     "solution": false
    }
   },
   "outputs": [],
   "source": [
    "text = md.find('~~**')\n",
    "assert_not_equal(text,-1,msg='Make sure you are using scratch first and bold second.')\n",
    "text = md.find('**')\n",
    "assert_not_equal(text,-1,msg='You did not bold the word bold.')\n",
    "text = md.find('*ital')\n",
    "assert_not_equal(text,-1,msg='You did not italicize the word italics')"
   ]
  },
  {
   "cell_type": "markdown",
   "metadata": {
    "deletable": false,
    "editable": false,
    "nbgrader": {
     "checksum": "7f1bf334100d655990bd99564fd56c36",
     "grade": false,
     "grade_id": "cell-9ca45d4e11879eff",
     "locked": true,
     "schema_version": 1,
     "solution": false
    }
   },
   "source": [
    "# Problem 4: Create a Markdown list\n",
    "\n",
    "- The below cell is in code format, but we can use the IPython.display module to write Markdown formatted code as Python strings, and then display it as markdown.\n",
    "\n",
    "\n",
    "- In the below cell, in between the two ` '''` statements, write markdown code that creates a markdown list with 3 items. The items should be numbered 1 through 3, respectively, and there should be a `.` character after each number. Name each item \"Item 1\", \"Item 2\", and \"Item 3\", respectively. Note that the \"I\" in Item sould be capitalized."
   ]
  },
  {
   "cell_type": "code",
   "execution_count": null,
   "metadata": {
    "deletable": false,
    "nbgrader": {
     "checksum": "49e29561ac16526076f721a4ce40668c",
     "grade": false,
     "grade_id": "p4-answer",
     "locked": false,
     "schema_version": 1,
     "solution": true
    }
   },
   "outputs": [],
   "source": [
    "md='''\n",
    "\n",
    "### YOUR CODE HERE\n",
    "\n",
    "'''"
   ]
  },
  {
   "cell_type": "code",
   "execution_count": null,
   "metadata": {
    "deletable": false,
    "editable": false,
    "nbgrader": {
     "checksum": "7722546b7185b368a63657ed10cb73ae",
     "grade": false,
     "grade_id": "cell-74ba7aa6cdb7e55c",
     "locked": true,
     "schema_version": 1,
     "solution": false
    }
   },
   "outputs": [],
   "source": [
    "#Let's view the markdown\n",
    "from IPython.display import Markdown\n",
    "display(Markdown(md))"
   ]
  },
  {
   "cell_type": "code",
   "execution_count": null,
   "metadata": {
    "deletable": false,
    "editable": false,
    "nbgrader": {
     "checksum": "58879da7aa8062f8f6fda5fb724043ab",
     "grade": true,
     "grade_id": "p4-test",
     "locked": true,
     "points": 1,
     "schema_version": 1,
     "solution": false
    }
   },
   "outputs": [],
   "source": [
    "text = md.find('1.')\n",
    "assert_not_equal(text,-1,msg='Number 1. is mising from your markdown list')\n",
    "text = md.find('2')\n",
    "assert_not_equal(text,-1,msg='Number 2. is mising from your markdown list')\n",
    "text = md.find('3.')\n",
    "assert_not_equal(text,-1,msg='Number 3. is mising from your markdown list')\n",
    "text = md.find('Item')\n",
    "assert_not_equal(text,-1,msg='Make sure you named each item in the list properly.')"
   ]
  },
  {
   "cell_type": "markdown",
   "metadata": {
    "deletable": false,
    "editable": false,
    "nbgrader": {
     "checksum": "baa747baadf4c18bd8e4d4e7be2b01de",
     "grade": false,
     "grade_id": "cell-08693a0feea91e94",
     "locked": true,
     "schema_version": 1,
     "solution": false
    }
   },
   "source": [
    "# Problem 5: Show code in Markdown\n",
    "\n",
    "- The below cell is in code format, but we can use the IPython.display module to write Markdown formatted code as Python strings, and then display it as markdown.\n",
    "\n",
    "\n",
    "- In the below cell, in between the two ` '''` statements, write markdown code that renders Python code. The Python code to be rendered is the statement `x = 'this is a pyhon string'`. \n",
    "\n",
    "\n",
    "- NOTE: When writing your markdown code, dont put any spaces between the Markdown characters that initialize the \"code\" environment."
   ]
  },
  {
   "cell_type": "code",
   "execution_count": null,
   "metadata": {
    "deletable": false,
    "nbgrader": {
     "checksum": "a7e14b109d0ee6aa7c8893d51bf01987",
     "grade": false,
     "grade_id": "p5-answer",
     "locked": false,
     "schema_version": 1,
     "solution": true
    }
   },
   "outputs": [],
   "source": [
    "md='''\n",
    "\n",
    "### YOUR CODE HERE\n",
    "\n",
    "'''"
   ]
  },
  {
   "cell_type": "code",
   "execution_count": null,
   "metadata": {
    "deletable": false,
    "editable": false,
    "nbgrader": {
     "checksum": "71fedb886486a3d5e2504b5d9c69bf22",
     "grade": false,
     "grade_id": "cell-ab982305b4a89353",
     "locked": true,
     "schema_version": 1,
     "solution": false
    }
   },
   "outputs": [],
   "source": [
    "#Let's view the markdown\n",
    "from IPython.display import Markdown\n",
    "display(Markdown(md))"
   ]
  },
  {
   "cell_type": "code",
   "execution_count": null,
   "metadata": {
    "deletable": false,
    "editable": false,
    "nbgrader": {
     "checksum": "98609904cb3383488e5e570e218f2e67",
     "grade": true,
     "grade_id": "p5-test",
     "locked": true,
     "points": 1,
     "schema_version": 1,
     "solution": false
    }
   },
   "outputs": [],
   "source": [
    "text = md.find('`x')\n",
    "assert_not_equal(text,-1,msg='Make sure you are using the right characters to render the code.')\n",
    "text = md.find('python')\n",
    "assert_not_equal(text,-1,msg='Make sure you type the string correctly.')"
   ]
  },
  {
   "cell_type": "markdown",
   "metadata": {
    "deletable": false,
    "editable": false
   },
   "source": [
    "-----\n",
    "\n",
    "**&copy; 2018: Robert J. Brunner at the University of Illinois.**\n",
    "\n",
    "This notebook is released under the [Creative Commons license CC BY-NC-SA 4.0][ll]. Any reproduction, adaptation, distribution, dissemination or making available of this notebook for commercial use is not allowed unless authorized in writing by the copyright holder.\n",
    "\n",
    "[ll]: https://creativecommons.org/licenses/by-nc-sa/4.0/legalcode"
   ]
  }
 ],
 "metadata": {
  "coursera": {
   "course_slug": "data-analytics-accountancy-1",
   "graded_item_id": "h3vs6",
   "launcher_item_id": "pZFXD"
  },
  "kernelspec": {
   "display_name": "Python 3",
   "language": "python",
   "name": "python3"
  },
  "language_info": {
   "codemirror_mode": {
    "name": "ipython",
    "version": 3
   },
   "file_extension": ".py",
   "mimetype": "text/x-python",
   "name": "python",
   "nbconvert_exporter": "python",
   "pygments_lexer": "ipython3",
   "version": "3.6.5"
  }
 },
 "nbformat": 4,
 "nbformat_minor": 2
}
