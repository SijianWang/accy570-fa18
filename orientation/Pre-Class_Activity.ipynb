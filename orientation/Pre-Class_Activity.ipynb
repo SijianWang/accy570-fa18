{
 "cells": [
  {
   "cell_type": "markdown",
   "metadata": {},
   "source": [
    "# Pre-Class Activity\n",
    "\n",
    "-----\n",
    "\n",
    "This optional [activity is on moodle](https://learn.illinois.edu/mod/forum/view.php?id=2839509), where the instructions are also shown along with the actual forum where you can complete these tasks.\n",
    "\n",
    "## Introduce Yourself\n",
    "\n",
    "Welcome! Before the course formally begins, I'd like you to take a few minutes to introduce yourself to the class and get to know your classmates a bit. Some of the work you do in this course, like peer assessment of your group members, will involve some degree of interaction with your peers. Establishing personal interaction with your peers early in the course will make your learning experience more enjoyable and engaging.\n",
    "\n",
    "## Time Estimate\n",
    "\n",
    "Approximately 1 hour.\n",
    "\n",
    "## Instructions\n",
    "\n",
    "### Updating Your Profile\n",
    "\n",
    "If you haven't already done so, you should update your Moodle profile. Your Moodle profile gives your classmates easy access to a little bit about you. Since your classmates can quickly access your Moodle profile almost any time they see your name listed within the course, it is a powerful tool for helping them to get to know you and vice versa. Additionally, when you update your Moodle profile photo, it shows up next to your name in discussion forums, which is a great help to those individuals who can remember faces more readily than names.\n",
    "\n",
    "Here are [Instructions for Updating Your Moodle Profile](http://publish.illinois.edu/atlas-tlt/students/editing-your-profile/).\n",
    "\n",
    "-----"
   ]
  }
 ],
 "metadata": {
  "kernelspec": {
   "display_name": "Python 3",
   "language": "python",
   "name": "python3"
  },
  "language_info": {
   "codemirror_mode": {
    "name": "ipython",
    "version": 3
   },
   "file_extension": ".py",
   "mimetype": "text/x-python",
   "name": "python",
   "nbconvert_exporter": "python",
   "pygments_lexer": "ipython3",
   "version": "3.6.5"
  }
 },
 "nbformat": 4,
 "nbformat_minor": 2
}
