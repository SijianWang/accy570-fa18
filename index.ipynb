{
 "cells": [
  {
   "cell_type": "markdown",
   "metadata": {},
   "source": [
    "# ACCY 570: Data Analytics Foundations\n",
    "\n",
    "-----\n",
    "\n",
    "## Course Outline \n",
    "\n",
    "Note: The following is our current list of topics to be covered in ACCY 570 in the Fall 2018 semester. The course material will be released roughly one week in advance.\n",
    "\n",
    "\n",
    "| **Week**           | **Topics**                        |\n",
    "| ------------------ | --------------------------------- |\n",
    "| *Module 1*     | [Foundations][m1]|\n",
    "| *Module 2*     | [Introduction to Python][m2]|\n",
    "| *Module 3*     | [Introduction to Python Programming][m3]|\n",
    "| *Module 4*     | [Python Programming][m4]|\n",
    "| *Module 5*     | [Introduction to Data Persistence][m5] |\n",
    "| *Module 6*     | [Advanced Data Structures][m6] |\n",
    "| *Module 7*     | [Introduction to Visualization][m7] |\n",
    "| *Module 8*     | [Introduction to Data Visualization][m8]  |\n",
    "| *Module 9*     | [Applied Data Analytics][m9] |\n",
    "| *Module 10*    | [Introduction to Text Analytics][m10] |\n",
    "| *Module 11*    | [Introduction to Database Systems][m11]  |\n",
    "| *Module 12*    | [Introduction to Python and Databases][m12]  |\n",
    "| *Module 13*    | [Introduction to Probability][m13] |\n",
    "| *Module 14*    | [Introduction to Time Series Data][m14]  |\n",
    "| *Module 15*    | [Introduction to Time Series Analysis][m15]  |\n",
    "| *Module 16*    | [Data Summarization][m16]  |\n",
    "\n",
    "\n",
    "-----\n",
    "\n",
    "[m1]: lessons/Module1/index.ipynb\n",
    "[m2]: lessons/Module2/index.ipynb\n",
    "[m3]: lessons/Module3/index.ipynb\n",
    "[m4]: lessons/Module4/index.ipynb\n",
    "[m5]: lessons/Module5/index.ipynb\n",
    "[m6]: lessons/Module6/index.ipynb\n",
    "[m7]: lessons/Module7/index.ipynb\n",
    "[m8]: lessons/Module8/index.ipynb\n",
    "[m9]: lessons/Module9/index.ipynb\n",
    "[m10]: lessons/Module10/index.ipynb\n",
    "[m11]: lessons/Module11/index.ipynb\n",
    "[m12]: lessons/Module12/index.ipynb\n",
    "[m13]: lessons/Module13/index.ipynb\n",
    "[m14]: lessons/Module14/index.ipynb\n",
    "[m15]: lessons/Module15/index.ipynb\n",
    "[m16]: lessons/Module16/index.ipynb"
   ]
  }
 ],
 "metadata": {
  "kernelspec": {
   "display_name": "Python 3",
   "language": "python",
   "name": "python3"
  },
  "language_info": {
   "codemirror_mode": {
    "name": "ipython",
    "version": 3
   },
   "file_extension": ".py",
   "mimetype": "text/x-python",
   "name": "python",
   "nbconvert_exporter": "python",
   "pygments_lexer": "ipython3",
   "version": "3.6.5"
  }
 },
 "nbformat": 4,
 "nbformat_minor": 2
}
